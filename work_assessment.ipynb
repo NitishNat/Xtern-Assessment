{
 "cells": [
  {
   "cell_type": "code",
   "execution_count": 67,
   "metadata": {},
   "outputs": [
    {
     "data": {
      "text/plain": [
       "'\\nThrough plotting the scooters on a 2D graph, it is evident that there are groups of scooters close to each other.\\nTo identify these clusters, I used k-means clustering to group the scooters into 4 clusters. The cluisters had the\\nfollowing sizes: (Blue:7050), (Yellow:5813), (Green:4886), (Purple:7919) \\nThe average charge per scooter in these clusters were 2.49, 2.47, 2.50, 2.52 respectively.\\nThe SuperCharger is quite far from the scooters, and is closest to the green cluster.\\nThe distances between Clusters is mentioned below (assuming unit length to be 1 mile):\\nBlue-Yellow = 0.43 miles\\nBlue-Purple = 1.36\\nBlue-Green = 1.57\\nYellow-Purple = 1.86\\nYellow-Green = 1.06\\n\\nSinced the scooters have the approx. the same avg charge, we should prioritize charging the scooters in clusters from\\nthe highest to lowest in terms of quantity. i.e, Purple, Blue, Yellow, Green\\nThe distance between Purple and Blue are approx. 1.36 miles, and assuming a speed of 50mph, it will take 1.6 min to travel.\\nThe supercharger should picl up scooters from Purple, and drop them off at Blue and then pick up some more at Blue and drop them off at Purple. Once all the scooters have been charged, the same can be repeated at the Green and Yellow clusters.\\nThe charging will take on avg 2.5 hrs per scooter.\\n'"
      ]
     },
     "execution_count": 67,
     "metadata": {},
     "output_type": "execute_result"
    }
   ],
   "source": [
    "'''\n",
    "Through plotting the scooters on a 2D graph, it is evident that there are groups of scooters close to each other.\n",
    "To identify these clusters, I used k-means clustering to group the scooters into 4 clusters. The cluisters had the\n",
    "following sizes: (Blue:7050), (Yellow:5813), (Green:4886), (Purple:7919) \n",
    "The average charge per scooter in these clusters were 2.49, 2.47, 2.50, 2.52 respectively.\n",
    "The SuperCharger is quite far from the scooters, and is closest to the green cluster.\n",
    "The distances between Clusters is mentioned below (assuming unit length to be 1 mile):\n",
    "Blue-Yellow = 0.43 miles\n",
    "Blue-Purple = 1.36\n",
    "Blue-Green = 1.57\n",
    "Yellow-Purple = 1.86\n",
    "Yellow-Green = 1.06\n",
    "\n",
    "Sinced the scooters have the approx. the same avg charge, we should prioritize charging the scooters in clusters from\n",
    "the highest to lowest in terms of quantity. i.e, Purple, Blue, Yellow, Green\n",
    "The distance between Purple and Blue are approx. 1.36 miles, and assuming a speed of 50mph, it will take 1.6 min to travel.\n",
    "The supercharger should picl up scooters from Purple, and drop them off at Blue and then pick up some more at Blue and drop them off at Purple. Once all the scooters have been charged, the same can be repeated at the Green and Yellow clusters.\n",
    "The charging will take on avg 2.5 hrs per scooter.\n",
    "'''"
   ]
  },
  {
   "cell_type": "code",
   "execution_count": 68,
   "metadata": {},
   "outputs": [
    {
     "data": {
      "text/html": [
       "<div>\n",
       "<style scoped>\n",
       "    .dataframe tbody tr th:only-of-type {\n",
       "        vertical-align: middle;\n",
       "    }\n",
       "\n",
       "    .dataframe tbody tr th {\n",
       "        vertical-align: top;\n",
       "    }\n",
       "\n",
       "    .dataframe thead th {\n",
       "        text-align: right;\n",
       "    }\n",
       "</style>\n",
       "<table border=\"1\" class=\"dataframe\">\n",
       "  <thead>\n",
       "    <tr style=\"text-align: right;\">\n",
       "      <th></th>\n",
       "      <th>scooter_id</th>\n",
       "      <th>xcoordinate</th>\n",
       "      <th>ycoordinate</th>\n",
       "      <th>power_level</th>\n",
       "    </tr>\n",
       "  </thead>\n",
       "  <tbody>\n",
       "    <tr>\n",
       "      <th>0</th>\n",
       "      <td>0</td>\n",
       "      <td>0.906835</td>\n",
       "      <td>0.776484</td>\n",
       "      <td>0</td>\n",
       "    </tr>\n",
       "    <tr>\n",
       "      <th>1</th>\n",
       "      <td>1</td>\n",
       "      <td>0.928587</td>\n",
       "      <td>0.804964</td>\n",
       "      <td>2</td>\n",
       "    </tr>\n",
       "    <tr>\n",
       "      <th>2</th>\n",
       "      <td>2</td>\n",
       "      <td>0.904091</td>\n",
       "      <td>0.784043</td>\n",
       "      <td>1</td>\n",
       "    </tr>\n",
       "    <tr>\n",
       "      <th>3</th>\n",
       "      <td>3</td>\n",
       "      <td>0.906752</td>\n",
       "      <td>0.804461</td>\n",
       "      <td>0</td>\n",
       "    </tr>\n",
       "    <tr>\n",
       "      <th>4</th>\n",
       "      <td>4</td>\n",
       "      <td>0.900641</td>\n",
       "      <td>0.781683</td>\n",
       "      <td>4</td>\n",
       "    </tr>\n",
       "  </tbody>\n",
       "</table>\n",
       "</div>"
      ],
      "text/plain": [
       "   scooter_id  xcoordinate  ycoordinate  power_level\n",
       "0           0     0.906835     0.776484            0\n",
       "1           1     0.928587     0.804964            2\n",
       "2           2     0.904091     0.784043            1\n",
       "3           3     0.906752     0.804461            0\n",
       "4           4     0.900641     0.781683            4"
      ]
     },
     "execution_count": 68,
     "metadata": {},
     "output_type": "execute_result"
    }
   ],
   "source": [
    "import pandas as pd \n",
    "import numpy as np\n",
    "# Read data from file 'filename.csv' \n",
    "# (in the same directory that your python process is based)\n",
    "# Control delimiters, rows, column names with read_csv (see later) \n",
    "data = pd.read_csv(\"dataset.csv\") \n",
    "# Preview the first 5 lines of the loaded data \n",
    "data.head()"
   ]
  },
  {
   "cell_type": "code",
   "execution_count": 19,
   "metadata": {},
   "outputs": [
    {
     "data": {
      "image/png": "[encoded data removed]",
      "text/plain": [
       "<Figure size 432x288 with 1 Axes>"
      ]
     },
     "metadata": {
      "needs_background": "light"
     },
     "output_type": "display_data"
    }
   ],
   "source": [
    "import matplotlib.pyplot as plt \n",
    "  \n",
    "# x-axis values \n",
    "x = data.xcoordinate\n",
    "# y-axis values \n",
    "y = data.ycoordinate\n",
    "  \n",
    "# plotting points as a scatter plot \n",
    "plt.scatter(x, y, label= \"scooters\", color= \"green\",  \n",
    "            marker= \".\", s=30) \n",
    "plt.plot(20.19, 20.19, label = \"SuperCharger\", color = \"red\", marker = \"*\")\n",
    "# x-axis label \n",
    "plt.xlabel('x - axis') \n",
    "# frequency label \n",
    "plt.ylabel('y - axis') \n",
    "# plot title \n",
    "plt.title('My scatter plot!') \n",
    "# showing legend \n",
    "plt.legend() \n",
    "  \n",
    "# function to show the plot \n",
    "plt.show() "
   ]
  },
  {
   "cell_type": "code",
   "execution_count": 20,
   "metadata": {},
   "outputs": [
    {
     "data": {
      "image/png": "[encoded data removed]",
      "text/plain": [
       "<Figure size 432x288 with 1 Axes>"
      ]
     },
     "metadata": {
      "needs_background": "light"
     },
     "output_type": "display_data"
    }
   ],
   "source": [
    "# x-axis values \n",
    "x = data.xcoordinate\n",
    "# y-axis values \n",
    "y = data.ycoordinate\n",
    "  \n",
    "# plotting points as a scatter plot \n",
    "plt.scatter(x, y, label= \"scooters\", color= \"green\",  \n",
    "            marker= \".\", s=30) \n",
    "#plt.plot(20.19, 20.19, label = \"SuperCharger\", color = \"red\", marker = \"*\")\n",
    "# x-axis label \n",
    "plt.xlabel('x - axis') \n",
    "# frequency label \n",
    "plt.ylabel('y - axis') \n",
    "# plot title \n",
    "plt.title('My scatter plot!') \n",
    "# showing legend \n",
    "plt.legend() \n",
    "  \n",
    "# function to show the plot \n",
    "plt.show() "
   ]
  },
  {
   "cell_type": "code",
   "execution_count": 27,
   "metadata": {},
   "outputs": [
    {
     "name": "stdout",
     "output_type": "stream",
     "text": [
      "[[ 0.98812503  0.77379981]\n",
      " [-0.15658026  0.01204397]\n",
      " [ 0.88000396  1.20009559]\n",
      " [ 0.2856132  -0.02145622]]\n"
     ]
    },
    {
     "data": {
      "text/plain": [
       "<matplotlib.collections.PathCollection at 0x1150bff90>"
      ]
     },
     "execution_count": 27,
     "metadata": {},
     "output_type": "execute_result"
    },
    {
     "data": {
      "image/png": "[encoded data removed]",
      "text/plain": [
       "<Figure size 432x288 with 1 Axes>"
      ]
     },
     "metadata": {
      "needs_background": "light"
     },
     "output_type": "display_data"
    }
   ],
   "source": [
    "from sklearn.cluster import KMeans\n",
    "Data = {'x': x, 'y': y}\n",
    "df = pd.DataFrame(Data,columns=['x','y'])\n",
    "kmeans = KMeans(n_clusters=4).fit(df)\n",
    "centroids = kmeans.cluster_centers_\n",
    "print(centroids)\n",
    "\n",
    "plt.scatter(df['x'], df['y'], c= kmeans.labels_.astype(float), s=50, alpha=0.5)\n",
    "plt.scatter(centroids[:, 0], centroids[:, 1], c='red', s=50)"
   ]
  },
  {
   "cell_type": "code",
   "execution_count": 39,
   "metadata": {},
   "outputs": [
    {
     "name": "stdout",
     "output_type": "stream",
     "text": [
      "0.4311890536643991\n",
      "1.3606851215472298\n",
      "1.5723371139803322\n",
      "0.6008527273800128\n",
      "1.060831749147809\n",
      "1.860275248451153\n"
     ]
    }
   ],
   "source": [
    "import math\n",
    "\n",
    "ans1 = math.sqrt((0.28+0.15)**2+(0.02+0.012)**2)\n",
    "ans2 = math.sqrt((0.98+0.15)**2+(0.77-0.012)**2)\n",
    "ans3 = math.sqrt((0.88+0.15)**2+(1.2-0.012)**2)\n",
    "ans4 = math.sqrt((0.28-0.88)**2+(-0.02-0.012)**2)\n",
    "ans5 = math.sqrt((0.28-0.988)**2+(-0.02-0.77)**2)\n",
    "ans6 = math.sqrt((0.98+0.88)**2+(0.02+0.012)**2)\n",
    "print(ans1)\n",
    "print(ans2)\n",
    "print(ans3)\n",
    "print(ans4)\n",
    "print(ans5)\n",
    "print(ans6)"
   ]
  },
  {
   "cell_type": "code",
   "execution_count": 45,
   "metadata": {},
   "outputs": [],
   "source": [
    "numScooters = {i: np.where(kmeans.labels_ == i)[0] for i in range(kmeans.n_clusters)}"
   ]
  },
  {
   "cell_type": "code",
   "execution_count": 51,
   "metadata": {},
   "outputs": [
    {
     "name": "stdout",
     "output_type": "stream",
     "text": [
      "7050\n",
      "5813\n",
      "4886\n",
      "7919\n"
     ]
    }
   ],
   "source": [
    "print(len(numScooters[0]))\n",
    "print(len(numScooters[1]))\n",
    "print(len(numScooters[2]))\n",
    "print(len(numScooters[3]))\n"
   ]
  },
  {
   "cell_type": "code",
   "execution_count": 53,
   "metadata": {},
   "outputs": [],
   "source": [
    " clusterPred = kmeans.predict(df)"
   ]
  },
  {
   "cell_type": "code",
   "execution_count": 64,
   "metadata": {},
   "outputs": [
    {
     "name": "stdout",
     "output_type": "stream",
     "text": [
      "[0 0 0 ... 2 2 2]\n",
      "7050 5813 4886 7919\n"
     ]
    }
   ],
   "source": [
    "print(clusterPred)\n",
    "count0 = 0\n",
    "count1 = 0\n",
    "count2 = 0\n",
    "count3 = 0\n",
    "\n",
    "for k in range(0, len(clusterPred)):\n",
    "    if (clusterPred[k] == 0):\n",
    "        count0= count0+1\n",
    "    elif (clusterPred[k] == 1):\n",
    "        count1= count1+1\n",
    "    elif (clusterPred[k] == 2):\n",
    "        count2= count2+1\n",
    "    else:\n",
    "        count3= count3+1\n",
    "        \n",
    "print(count0, count1, count2, count3)"
   ]
  },
  {
   "cell_type": "code",
   "execution_count": 65,
   "metadata": {},
   "outputs": [],
   "source": [
    "avgBattery0 = 0\n",
    "avgBattery1 = 0\n",
    "avgBattery2 = 0\n",
    "avgBattery3 = 0\n",
    "for i in range(len(data.scooter_id)):\n",
    "    if (clusterPred[i] == 0):\n",
    "        avgBattery0 += data.power_level[i]\n",
    "    elif (clusterPred[i] == 1):\n",
    "        avgBattery1 += data.power_level[i]\n",
    "    elif (clusterPred[i] == 2):\n",
    "        avgBattery2 += data.power_level[i]\n",
    "    else:\n",
    "        avgBattery3 += data.power_level[i]\n",
    "        \n",
    "avgBattery0 =  avgBattery0/count0\n",
    "avgBattery1 =  avgBattery1/count1\n",
    "avgBattery2 =  avgBattery2/count2\n",
    "avgBattery3 =  avgBattery3/count3"
   ]
  },
  {
   "cell_type": "code",
   "execution_count": 66,
   "metadata": {},
   "outputs": [
    {
     "name": "stdout",
     "output_type": "stream",
     "text": [
      "2.4878014184397164 2.471357302597626 2.4969300040933278 2.521025381992676\n"
     ]
    }
   ],
   "source": [
    "print(avgBattery0, avgBattery1, avgBattery2, avgBattery3)"
   ]
  },
  {
   "cell_type": "code",
   "execution_count": null,
   "metadata": {},
   "outputs": [],
   "source": []
  }
 ],
 "metadata": {
  "kernelspec": {
   "display_name": "Python 3",
   "language": "python",
   "name": "python3"
  },
  "language_info": {
   "codemirror_mode": {
    "name": "ipython",
    "version": 3
   },
   "file_extension": ".py",
   "mimetype": "text/x-python",
   "name": "python",
   "nbconvert_exporter": "python",
   "pygments_lexer": "ipython3",
   "version": "3.7.4"
  }
 },
 "nbformat": 4,
 "nbformat_minor": 2
}
